{
 "cells": [
  {
   "cell_type": "code",
   "execution_count": 2,
   "id": "d1736390",
   "metadata": {},
   "outputs": [
    {
     "data": {
      "text/latex": [
       "$\\displaystyle \n",
       "\\textbf{Step 1: Definition of KL Divergence} \\\\\n",
       "\\text{Given two probability distributions } P(x) \\text{ and } Q(x) \\text{ over the same variable } x, \\\\\n",
       "\\text{the Kullback-Leibler (KL) divergence from } Q \\text{ to } P \\text{ is defined as:} \\\\\n",
       "D_{KL}(P \\parallel Q) = \\sum_x P(x) \\log \\frac{P(x)}{Q(x)} \\quad \\text{(discrete case)} \\\\\n",
       "D_{KL}(P \\parallel Q) = \\int P(x) \\log \\frac{P(x)}{Q(x)} dx \\quad \\text{(continuous case)} \\\\[1.5em]\n",
       "\n",
       "\\textbf{Step 2: Expanding the Logarithm} \\\\\n",
       "\\text{Recall that } \\log \\frac{P(x)}{Q(x)} = \\log P(x) - \\log Q(x) \\\\\n",
       "\\Rightarrow D_{KL}(P \\parallel Q) = \\sum_x P(x) [\\log P(x) - \\log Q(x)] \\\\[1.5em]\n",
       "\n",
       "\\textbf{Step 3: Separating the Terms} \\\\\n",
       "D_{KL}(P \\parallel Q) = \\sum_x P(x) \\log P(x) - \\sum_x P(x) \\log Q(x) \\\\[1.5em]\n",
       "\n",
       "\\textbf{Step 4: Interpreting the Terms} \\\\\n",
       "\\sum_x P(x) \\log P(x) = \\mathbb{E}_{x \\sim P}[\\log P(x)] \\text{ (the negative entropy of } P) \\\\\n",
       "\\sum_x P(x) \\log Q(x) = \\mathbb{E}_{x \\sim P}[\\log Q(x)] \\\\[1.5em]\n",
       "\n",
       "\\textbf{Step 5: Final Formulation} \\\\\n",
       "D_{KL}(P \\parallel Q) = \\mathbb{E}_{x \\sim P} \\left[ \\log \\frac{P(x)}{Q(x)} \\right] \\\\\n",
       "\\text{or, equivalently:} \\\\\n",
       "D_{KL}(P \\parallel Q) = \\mathbb{E}_{x \\sim P}[\\log P(x)] - \\mathbb{E}_{x \\sim P}[\\log Q(x)]\n",
       "$"
      ],
      "text/plain": [
       "<IPython.core.display.Math object>"
      ]
     },
     "metadata": {},
     "output_type": "display_data"
    }
   ],
   "source": [
    "from IPython.display import display, Math\n",
    "\n",
    "latex_kl = r\"\"\"\n",
    "\\textbf{Step 1: Definition of KL Divergence} \\\\\n",
    "\\text{Given two probability distributions } P(x) \\text{ and } Q(x) \\text{ over the same variable } x, \\\\\n",
    "\\text{the Kullback-Leibler (KL) divergence from } Q \\text{ to } P \\text{ is defined as:} \\\\\n",
    "D_{KL}(P \\parallel Q) = \\sum_x P(x) \\log \\frac{P(x)}{Q(x)} \\quad \\text{(discrete case)} \\\\\n",
    "D_{KL}(P \\parallel Q) = \\int P(x) \\log \\frac{P(x)}{Q(x)} dx \\quad \\text{(continuous case)} \\\\[1.5em]\n",
    "\n",
    "\\textbf{Step 2: Expanding the Logarithm} \\\\\n",
    "\\text{Recall that } \\log \\frac{P(x)}{Q(x)} = \\log P(x) - \\log Q(x) \\\\\n",
    "\\Rightarrow D_{KL}(P \\parallel Q) = \\sum_x P(x) [\\log P(x) - \\log Q(x)] \\\\[1.5em]\n",
    "\n",
    "\\textbf{Step 3: Separating the Terms} \\\\\n",
    "D_{KL}(P \\parallel Q) = \\sum_x P(x) \\log P(x) - \\sum_x P(x) \\log Q(x) \\\\[1.5em]\n",
    "\n",
    "\\textbf{Step 4: Interpreting the Terms} \\\\\n",
    "\\sum_x P(x) \\log P(x) = \\mathbb{E}_{x \\sim P}[\\log P(x)] \\text{ (the negative entropy of } P) \\\\\n",
    "\\sum_x P(x) \\log Q(x) = \\mathbb{E}_{x \\sim P}[\\log Q(x)] \\\\[1.5em]\n",
    "\n",
    "\\textbf{Step 5: Final Formulation} \\\\\n",
    "D_{KL}(P \\parallel Q) = \\mathbb{E}_{x \\sim P} \\left[ \\log \\frac{P(x)}{Q(x)} \\right] \\\\\n",
    "\\text{or, equivalently:} \\\\\n",
    "D_{KL}(P \\parallel Q) = \\mathbb{E}_{x \\sim P}[\\log P(x)] - \\mathbb{E}_{x \\sim P}[\\log Q(x)]\n",
    "\"\"\"\n",
    "\n",
    "display(Math(latex_kl))\n"
   ]
  }
 ],
 "metadata": {
  "kernelspec": {
   "display_name": "MLEnv",
   "language": "python",
   "name": "python3"
  },
  "language_info": {
   "codemirror_mode": {
    "name": "ipython",
    "version": 3
   },
   "file_extension": ".py",
   "mimetype": "text/x-python",
   "name": "python",
   "nbconvert_exporter": "python",
   "pygments_lexer": "ipython3",
   "version": "3.8.19"
  }
 },
 "nbformat": 4,
 "nbformat_minor": 5
}
